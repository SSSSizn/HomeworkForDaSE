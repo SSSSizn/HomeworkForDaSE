{
 "cells": [
  {
   "cell_type": "markdown",
   "id": "69997c2c",
   "metadata": {},
   "source": [
    "(3)\n",
    "CREATE TABLE user (\n",
    "    id VARCHAR(10), \n",
    "    name VARCHAR(255), \n",
    "    sex VARCHAR(10),   \n",
    "    age INT,       \n",
    "    phone VARCHAR(10)    \n",
    ");\n",
    "\n",
    "INSERT INTO user (id, name, sex, age, phone)\n",
    "VALUES\n",
    "    (1, '张三', '男', 25, '123-456-7890'),\n",
    "    (2, '李四', '女', 30, '987-654-3210'),\n",
    "    (3, '王五', '男', 22, '555-555-5555');"
   ]
  },
  {
   "cell_type": "markdown",
   "id": "4bafa2cb",
   "metadata": {},
   "source": [
    "(4)\n",
    "SELECT * FROM user\n",
    "WHERE age BETWEEN 20 AND 30"
   ]
  },
  {
   "cell_type": "markdown",
   "id": "069a28ac",
   "metadata": {},
   "source": [
    "(5)\n",
    "DELETE FROM user \n",
    "WHERE name LIKE ‘%张%'"
   ]
  },
  {
   "cell_type": "markdown",
   "id": "541b3b4f",
   "metadata": {},
   "source": [
    "(6)\n",
    "SELECT AVG(age) FROM user;"
   ]
  },
  {
   "cell_type": "markdown",
   "id": "4c43a5a5",
   "metadata": {},
   "source": [
    "(7)\n",
    "SELECT * FROM user \n",
    "WHERE age >= 20 AND age <= 30 AND name LIKE '%张%'\n",
    "ORDER BY age, DESC;"
   ]
  },
  {
   "cell_type": "markdown",
   "id": "1bc11b37",
   "metadata": {},
   "source": [
    "(8)\n",
    "CREATE TABLE team (\n",
    "    id INT,\n",
    "    teamName VARCHAR(255) \n",
    ");\n",
    "\n",
    "CREATE TABLE score (\n",
    "    id INT,\n",
    "    teamid INT,\n",
    "    userid INT,\n",
    "    score INT,\n",
    "    FOREIGN KEY (teamid) REFERENCES team(id),\n",
    "    FOREIGN KEY (userid) REFERENCES user(id)\n",
    ");\n"
   ]
  },
  {
   "cell_type": "markdown",
   "id": "ed31bb9e",
   "metadata": {},
   "source": [
    "(9)\n",
    "SELECT * FROM user\n",
    "JOIN team ON user.teamid = team.id\n",
    "WHERE team.teamName = 'ECNU' AND user.age < 20;"
   ]
  },
  {
   "cell_type": "markdown",
   "id": "b8549235",
   "metadata": {},
   "source": [
    "(10)\n",
    "SELECT team.teamName, COALESCE(SUM(score.score), 0) AS total_score\n",
    "FROM team\n",
    "LEFT JOIN score ON team.id = score.teamid\n",
    "WHERE team.teamName = 'ECNU'\n",
    "GROUP BY team.teamName;"
   ]
  }
 ],
 "metadata": {
  "kernelspec": {
   "display_name": "Python 3 (ipykernel)",
   "language": "python",
   "name": "python3"
  },
  "language_info": {
   "codemirror_mode": {
    "name": "ipython",
    "version": 3
   },
   "file_extension": ".py",
   "mimetype": "text/x-python",
   "name": "python",
   "nbconvert_exporter": "python",
   "pygments_lexer": "ipython3",
   "version": "3.11.5"
  }
 },
 "nbformat": 4,
 "nbformat_minor": 5
}
